{
 "cells": [
  {
   "cell_type": "markdown",
   "metadata": {},
   "source": [
    "## This notebook contains a program that:\n",
    "\n",
    "\n",
    "   **> Extracts movie information from a OMDB database based on User's input.**\n",
    "\n",
    "   **> Stores the movie titles in a local text file.**\n",
    "\n",
    "\n"
   ]
  },
  {
   "cell_type": "markdown",
   "metadata": {},
   "source": [
    "**Read Me** \n",
    "\n",
    "Please read this first before using this program to ensure safe and proper use:\n",
    "\n",
    "This is a python program designed to be run in a Jupyter Notebook therefore to ensure it run without errors it must be run in a Jupyter Notebook. Performance issues and incompabilities errors encountered by using different systems to run this program, the programmer is not liable for them.\n",
    "\n",
    "API keys and URLs used and provided in this program are licensed for limited use. Extracting these materials for commercials or other purpose is an infringement of the copyright laws. Users will be held responsible.\n",
    "\n",
    "You may incur additional charges from using the www.omdbapi.com URL to look up for movie information\n",
    "\n",
    "Alterations or editings to this program may result in the programs malfunctions and corruption.\n",
    "\n"
   ]
  },
  {
   "cell_type": "markdown",
   "metadata": {},
   "source": [
    "\n",
    "**About this program**\n",
    "\n",
    "This notebook contains a program that has the ability to extract, print and store information based on movie titles provided by the user. Learning to use this program is easy, but knowing and undestanding concepts from the text, Python for Everybody\n",
    "Exploring Data Using Python 3, is useful but not recommended. The program is connected to an OMDBAPI that asssits in the retrival of movie information using API keys. \n",
    "\n",
    "\n"
   ]
  },
  {
   "cell_type": "markdown",
   "metadata": {},
   "source": [
    "**What is a Restful API**\n",
    "\n",
    "An API is an application programming interface. It is a set of rules that allow programs to talk to each other. The developer creates the API on the server and allows the client to talk to it.\n",
    "\n",
    "REST determines how the API looks like. It stands for “Representational State Transfer”. It is a set of rules that developers follow when they create their API. One of these rules states that you should be able to get a piece of data (called a resource) when you link to a specific URL.\n",
    "\n",
    "Each URL is called a request while the data sent back to you is called a response."
   ]
  },
  {
   "cell_type": "markdown",
   "metadata": {},
   "source": [
    "**How the interaction takes place between program and this service.**\n",
    "\n",
    "The program extraxt moive data from OMDBAPI database using a unique api key that can be obtain from www.omdbapi.com.\n",
    "If the movie that in queried by the user exist, information about the movie will be printed out and the title that movie will be stored in a local text file. \n",
    "\n",
    "If the movie does not exist, it will notify that the movie does not exist and title is not stored in the text and will give the user an option to try again. "
   ]
  },
  {
   "cell_type": "markdown",
   "metadata": {},
   "source": [
    "**Key Functions in the program**\n",
    "\n",
    "The program has four major functions and the rest of the code have notes to explain the functions of the code adnd why it was used.\n",
    "\n",
    "1. **read_from_file(myfile=\"text.txt\") and write_to_file(mylist,my_file=\"text.txt\")**\n",
    "\n",
    "   These two functions are responsible for the the local text file. They are responsible for writing and reading the movie          titles into a text file so that if the user wants to look up at the prevoisl searched titles they can be able to do so.\n",
    "   \n",
    "   \n",
    "2. **show( info)**\n",
    "\n",
    "    This fucntions is takes care of printing of the items about the movie such as the titles, plot. genre ect. It presents the       information a neat and easy to read manner.\n",
    "   \n",
    "   \n",
    "3. **main_function()**\n",
    "\n",
    "   This function is the brain of the program. This is where the API key, Urls that are needed for the program to be able to do      what it does are found\n",
    "   \n",
    "   \n",
    "4. **control_flow()**\n",
    "\n",
    "   This function focuses more on the user interface. Options of interaction with the program are stored in this function"
   ]
  },
  {
   "cell_type": "markdown",
   "metadata": {},
   "source": [
    "**Problems encountered and how you went about solving the problems**\n",
    "\n",
    "1. The program was not getting the movie information due to an unactivated API key, Once the API key was activated via the link sent, it started lloking up movies and retrieving informtaion\n",
    "\n",
    "2. Getting the program to print out different movie titles based a keyword rather than providing the information of the movie from the begin. Had to change the parameters to a searching option that will provide just movie titles, and not provide an informtaion.\n",
    "\n",
    "3. Printing out of ratings was in a list and had to write a program to extract the objects in the list and print them out neatly.\n",
    "\n",
    "4. Title duplication in the text file, the solution is to convert the text file into a list and then remove duplicate items and them write the list as a text file again\n",
    "\n",
    "5. Movies/ Series with the same name but are different were to be searched, it would print out one of them automatically and does not give you the option to see the information of the other movie."
   ]
  },
  {
   "cell_type": "markdown",
   "metadata": {},
   "source": [
    "**Initial Start up**\n",
    "\n",
    "The start up guidelines are based on idea of running the program on the Jypter Notebook.\n",
    "\n",
    "1. Left click on the Kernel and select the 'Resart & Run All'\n",
    "2. A pop up will appear giving the asking 'Are you sure you want to restart the current kernel and re-execute the whole notebook? All variables and outputs will be lost.'\n",
    "3. Proceed to selecting \"Restart and Run All Cells\"\n",
    "4. User must scroll down to the installation section of libraries \n",
    "5. Program will install the libaries and return this message, this message below must appear before using the program(if this message doesn't appear you can not use this data)\n",
    "\n",
    "   Requirement already satisfied: pip in c:\\programdata\\anaconda3\\lib\\site-packages (20.0.2)\n",
    "   \n",
    "   Requirement already satisfied: omdb in c:\\programdata\\anaconda3\\lib\\site-packages (0.10.1)\n",
    "   \n",
    "   Requirement already satisfied: requests>=2.0.1 in c:\\programdata\\anaconda3\\lib\\site-packages (from omdb) (2.22.0)\n",
    "   \n",
    "   Requirement already satisfied: idna<2.9,>=2.5 in c:\\programdata\\anaconda3\\lib\\site-packages (from requests>=2.0.1->omdb) (2.8)\n",
    "   \n",
    "   Requirement already satisfied: chardet<3.1.0,>=3.0.2 in c:\\programdata\\anaconda3\\lib\\site-packages (from requests>=2.0.1->omdb) (3.0.4)\n",
    "   \n",
    "   Requirement already satisfied: certifi>=2017.4.17 in c:\\programdata\\anaconda3\\lib\\site-packages (from requests>=2.0.1->omdb) (2019.11.28)\n",
    "   \n",
    "   Requirement already satisfied: urllib3!=1.25.0,!=1.25.1,<1.26,>=1.21.1 in c:\\programdata\\anaconda3\\lib\\site-packages (from requests>=2.0.1->omdb) (1.25.8)\n",
    "   \n",
    "   \n",
    "\n",
    "6. If the message above is printed, follow the Intercation with user steps below"
   ]
  },
  {
   "cell_type": "markdown",
   "metadata": {},
   "source": [
    "**Interaction with user**\n",
    "\n",
    "Upon running the program, it should print \"S: search, P: Previous, C: Cancel\" and promts the user with three options of interaction. \n",
    "\n",
    "Selecting the \"S:search\" will prompt a user to \"...Enter a keyword to get a Movie title...\" that the program can use to suggest titles of movies you might be looking for and prints them out. After entering the keyword program will provide a list of suggest movie titles. They are merely suggestions and you can choose to use them or not. The program will proceed to ask the user to \"...Enter a title of a movie...\". User can choose to enter the suggested Movie titles or enter new one. After user inputs a movie title, the program will them provide the information on the movie title such as title, plot, genre, actors, awards ect. Program will then store the title of the movie looked up into a text file for later use. Then program will prompt the user with \"S: search, P: Previous, C: Cancel\" again.\n",
    "\n",
    "Selection of \"P: Previous\", program will print the previously looked up movie titles and will promt the user again with \"S: search, P: Previous, C: Cancel\".\n",
    "\n",
    "Selecting \"C: Cancel\" will cancel terminate the program."
   ]
  },
  {
   "cell_type": "markdown",
   "metadata": {},
   "source": [
    "{introduce the program}{demonstrates how it works} {provide some demo code}{document key designs}{distiguinsh between final code and demo code}{document key apsects of logic solution} {why certain things were done} {how the program works together}"
   ]
  },
  {
   "cell_type": "markdown",
   "metadata": {},
   "source": [
    "## Section A: Implementaion"
   ]
  },
  {
   "cell_type": "markdown",
   "metadata": {},
   "source": [
    "### Installation of libraries from PyPi using pip for connecting the API to python"
   ]
  },
  {
   "cell_type": "code",
   "execution_count": 1,
   "metadata": {},
   "outputs": [
    {
     "name": "stdout",
     "output_type": "stream",
     "text": [
      "Defaulting to user installation because normal site-packages is not writeable\n",
      "Requirement already satisfied: pip in /usr/lib/python3/dist-packages (22.0.2)\n",
      "Defaulting to user installation because normal site-packages is not writeable\n",
      "Collecting omdb\n",
      "  Downloading omdb-0.10.1-py2.py3-none-any.whl (9.8 kB)\n",
      "Requirement already satisfied: requests>=2.0.1 in /usr/lib/python3/dist-packages (from omdb) (2.25.1)\n",
      "Installing collected packages: omdb\n",
      "Successfully installed omdb-0.10.1\n"
     ]
    }
   ],
   "source": [
    "# installing a library from PyPi using pip for connecting API to python\n",
    "import sys\n",
    "\n",
    "!{sys.executable} -m pip install pip\n",
    "\n",
    "import sys\n",
    "\n",
    "!{sys.executable} -m pip install omdb \n",
    "\n",
    "import json\n",
    "\n",
    "import requests\n"
   ]
  },
  {
   "cell_type": "markdown",
   "metadata": {},
   "source": [
    "### Program for reading and writing text file of movie titles"
   ]
  },
  {
   "cell_type": "code",
   "execution_count": 2,
   "metadata": {},
   "outputs": [],
   "source": [
    "def read_from_file(myfile=\"text.txt\"):\n",
    "    try:\n",
    "        my_file=open(myfile,\"r\")\n",
    "        print(\"------Previously looked up title------\")\n",
    "        print(my_file.read()) #convert in a list and then remove duplicates and then save again\n",
    "        print(\"--------------------------------------\")\n",
    "    except IOError:\n",
    "        print(\"File not found or path is incorrect\")\n",
    "        \n",
    "        \n",
    "def write_to_file(mylist,my_file=\"text.txt\"):\n",
    "    try:\n",
    "        new_file=open(my_file,mode=\"a+\",encoding=\"utf-8\")\n",
    "        new_file.writelines(mylist)\n",
    "        new_file.close()\n",
    "    except:\n",
    "        print(\"File not found or path is incorrect\")\n",
    "        \n",
    "\n",
    "#duplicate entry to text file\n",
    "# lines_seen = set() # holds lines already seen\n",
    "# outfile = open(outfilename, \"w\")\n",
    "# for line in open(infilename, \"r\"):\n",
    "#     if line not in lines_seen: # not a duplicate\n",
    "#         outfile.write(line)\n",
    "#         lines_seen.add(line)\n",
    "# outfile.close()\n"
   ]
  },
  {
   "cell_type": "markdown",
   "metadata": {},
   "source": [
    "### Functions to provide information about movie titles."
   ]
  },
  {
   "cell_type": "code",
   "execution_count": 3,
   "metadata": {
    "scrolled": true
   },
   "outputs": [],
   "source": [
    "#functions pulls the information from the dictionaries using keys and prints it out\n",
    "def show( info):    \n",
    "    print('Title: ',info['Title'])\n",
    "    print('Year: ',info['Year'])\n",
    "    print('Rated: ',info['Rated'])\n",
    "    print('Plot: ', info['Plot'])\n",
    "    print('Released: ',info['Released'])\n",
    "    print('Runtime: ',info['Runtime'])\n",
    "    print('Genre: ',info['Genre'])\n",
    "    print('Writer: ',info['Writer'])\n",
    "    print('Actors: ',info['Actors'])\n",
    "    print('Language: ',info['Language'])\n",
    "    print('Country: ',info['Country'])\n",
    "    print('Awards: ',info['Awards'])\n",
    "    print('Ratings: ') \n",
    "    #extracting ratings from the ratings list\n",
    "    for n in range(len(info['Ratings'])):\n",
    "        for i in (info['Ratings'][n]).keys():\n",
    "            print(info['Ratings'][n][i])\n",
    "    print('Type: ',info['Type'])\n",
    "    #writing titles to text for later look up\n",
    "    write_to_file(info['Title']+'\\n',my_file=\"text.txt\") \n",
    "\n",
    "#function calls the omdbAPI using url\n",
    "def main_function():\n",
    "    key =\"6dc4c9aa\"\n",
    "    base_url = 'http://www.omdbapi.com/?apikey=' + key\n",
    "    \n",
    "    #user enters a keyword to get a certain to get movie title options\n",
    "    print('...Enter a keyword to get a Movie title...')\n",
    "    search = input(\"> \")\n",
    "    #searching url that searches list of movie titles based on keyword entered and prints them\n",
    "    final_url_search = base_url + '&s=' + search + '&plot=full'\n",
    "    request_search = requests.get(final_url_search)\n",
    "    data_search = request_search.json()\n",
    "    \n",
    "    #program gives options containing the 'keyword' entered by user\n",
    "    try:\n",
    "        print()\n",
    "        print(\"....Here are your suggested options basesd on what you entered....\")\n",
    "        print()\n",
    "        #extracts the movie titles from the API dictionaries and print them as options for users\n",
    "        for x in range(len(data_search['Search'])):            \n",
    "            print(data_search['Search'][x]['Title'])\n",
    "        \n",
    "        #user provides the name of the movie title\n",
    "        print()\n",
    "        print(\"...Enter a title of a movie...\")\n",
    "        print()\n",
    "        title = input(\"> \")\n",
    "        #title url that gives information on movie title chosen\n",
    "        final_url_title = base_url + '&t=' + title + '&plot=full'    \n",
    "        request_title = requests.get(final_url_title)\n",
    "        data_title = request_title.json()\n",
    "        show(request_title.json()) \n",
    "        \n",
    "    \n",
    "    #accounting for continuity of program if movie doesn't exist and print out if movie doesn't exist\n",
    "    except:\n",
    "        print(\"Error: Movie not found!\")\n",
    "        print('Try again Y/n')\n",
    "        option = input(\"> \")\n",
    "        if option == 'yes' or option == 'Y' or option == 'Yes' or option == 'y':\n",
    "            main_function()\n",
    "        else:\n",
    "            print(\"Have a great day, thank you for using our service\")\n",
    "    \n"
   ]
  },
  {
   "cell_type": "markdown",
   "metadata": {},
   "source": [
    "### Provide user with options for interaction"
   ]
  },
  {
   "cell_type": "code",
   "execution_count": null,
   "metadata": {},
   "outputs": [
    {
     "name": "stdout",
     "output_type": "stream",
     "text": [
      "\n",
      "S: search, P: Previous, C: Cancel\n",
      "> S\n",
      "...Enter a keyword to get a Movie title...\n",
      "> Invincibles\n",
      "\n",
      "....Here are your suggested options basesd on what you entered....\n",
      "\n",
      "Les invincibles\n",
      "The Invincibles\n",
      "Les invincibles\n",
      "Les invincibles\n",
      "The Invincibles: The 1974 Lions Rugby Tour of South Africa\n",
      "Invincibles\n",
      "The Invincibles\n",
      "Colored Invincibles\n",
      "\n",
      "...Enter a title of a movie...\n",
      "\n",
      "> The Invincibles\n",
      "Title:  The Invincibles\n",
      "Year:  1994\n",
      "Rated:  Not Rated\n",
      "Plot:  Simon, the \"invincible\" leader of a police special unit, becomes caught up in a complex scheme involving bribery and money-laundering, as well as an affair with the beautiful wife of a government official investigating organized crime and political corruption. After the official is kidnapped, the chase leads to a dramatic conclusion high in the Bavarian Alps.\n",
      "Released:  22 Sep 1994\n",
      "Runtime:  130 min\n",
      "Genre:  Action, Drama, Thriller\n",
      "Writer:  Günter Schütter, Peter Hollweg, Klaus Maas\n",
      "Actors:  Herbert Knaup, Katja Flint, Hansa Czypionka\n",
      "Language:  German, French, Italian\n",
      "Country:  Germany\n",
      "Awards:  2 wins & 4 nominations\n",
      "Ratings: \n",
      "Internet Movie Database\n",
      "6.4/10\n",
      "Type:  movie\n",
      "\n",
      "S: search, P: Previous, C: Cancel\n"
     ]
    }
   ],
   "source": [
    "def control_flow():\n",
    "    while True:\n",
    "        print()\n",
    "        print(\"S: search, P: Previous, C: Cancel\")\n",
    "        option = input(\"> \")\n",
    "        if option == 'S' or option == 's' :\n",
    "            main_function()\n",
    "        elif option == 'P' or option == 'p' :\n",
    "            read_from_file(myfile=\"text.txt\")\n",
    "        elif option == 'C' or option == 'c':\n",
    "            break\n",
    "        else:\n",
    "            print()\n",
    "            print(\"***Invalid option***\")\n",
    "            control_flow()\n",
    "            \n",
    "            \n",
    "    \n",
    "control_flow()"
   ]
  },
  {
   "cell_type": "code",
   "execution_count": null,
   "metadata": {},
   "outputs": [],
   "source": []
  }
 ],
 "metadata": {
  "kernelspec": {
   "display_name": "Python 3 (ipykernel)",
   "language": "python",
   "name": "python3"
  },
  "language_info": {
   "codemirror_mode": {
    "name": "ipython",
    "version": 3
   },
   "file_extension": ".py",
   "mimetype": "text/x-python",
   "name": "python",
   "nbconvert_exporter": "python",
   "pygments_lexer": "ipython3",
   "version": "3.10.6"
  }
 },
 "nbformat": 4,
 "nbformat_minor": 4
}
